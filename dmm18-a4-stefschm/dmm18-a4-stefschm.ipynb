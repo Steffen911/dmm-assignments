{
 "cells": [
  {
   "cell_type": "code",
   "execution_count": null,
   "metadata": {},
   "outputs": [],
   "source": [
    "# install.packages(c(\"gplots\",\"plotrix\",\"clue\",\"reshape\",\"e1071\"))\n",
    "source(\"support/util.R\")\n",
    "\n",
    "## help function for plotting a matrix or a similarity matrix against black background\n",
    "show <- function(M, ...) {\n",
    "    ggplotm(as.matrix(M), mid=\"black\", label.color=NA, show.axis=FALSE, ...)\n",
    "}"
   ]
  },
  {
   "cell_type": "markdown",
   "metadata": {},
   "source": [
    "# Load the data"
   ]
  },
  {
   "cell_type": "code",
   "execution_count": null,
   "metadata": {},
   "outputs": [],
   "source": [
    "## rows correspond to digits, columns to pixels (8x8 -> 64 columns)\n",
    "D <- digits()"
   ]
  },
  {
   "cell_type": "markdown",
   "metadata": {},
   "source": [
    "# Print something"
   ]
  },
  {
   "cell_type": "code",
   "execution_count": null,
   "metadata": {},
   "outputs": [],
   "source": [
    "## visualize a digit (the 200-th one)\n",
    "show( t(matrix(D[200,], 8, 8)) )"
   ]
  },
  {
   "cell_type": "code",
   "execution_count": null,
   "metadata": {},
   "outputs": [],
   "source": [
    "## these are the correct labels (data is organized in 50 rows per digit)\n",
    "labels <- rep(0:9, each=50)"
   ]
  },
  {
   "cell_type": "code",
   "execution_count": null,
   "metadata": {},
   "outputs": [],
   "source": [
    "## show this \"clustering\" (each column = one cluster)\n",
    "show.digits(labels)"
   ]
  },
  {
   "cell_type": "code",
   "execution_count": null,
   "metadata": {},
   "outputs": [],
   "source": [
    "## function to relabel cluster indicaters to match optimal clustering to the\n",
    "## extent possible (try with and without)\n",
    "match <- function(cluster) {\n",
    "    match.labels(cluster+1, labels+1)-1\n",
    "}"
   ]
  },
  {
   "cell_type": "code",
   "execution_count": null,
   "metadata": {},
   "outputs": [],
   "source": [
    "## compute a confusion matrix\n",
    "cm <- function(cluster.ids) {\n",
    "  cluster.ids.matched <- match.labels(cluster.ids, labels)\n",
    "  u = union(cluster.ids.matched, labels)\n",
    "  t = table(factor(cluster.ids.matched, u), factor(labels, u))\n",
    "  confusionMatrix(t)\n",
    "}"
   ]
  },
  {
   "cell_type": "code",
   "execution_count": null,
   "metadata": {},
   "outputs": [],
   "source": [
    "## run k-means clustering\n",
    "cluster <- match( kmeans(D, 10, nstart=100)$cluster - 1 )"
   ]
  },
  {
   "cell_type": "code",
   "execution_count": null,
   "metadata": {},
   "outputs": [],
   "source": [
    "## let's see how good the clustering is with respect to the true numbers\n",
    "cm(cluster)$overall[\"Accuracy\"] # 82%\n",
    "cm(cluster)"
   ]
  },
  {
   "cell_type": "code",
   "execution_count": null,
   "metadata": {},
   "outputs": [],
   "source": [
    "## visualize the clusters (each column is one cluster)\n",
    "show.digits(cluster) "
   ]
  },
  {
   "cell_type": "code",
   "execution_count": null,
   "metadata": {},
   "outputs": [],
   "source": [
    "## just the errors\n",
    "show.digits(cluster, cluster!=labels) "
   ]
  },
  {
   "cell_type": "code",
   "execution_count": null,
   "metadata": {},
   "outputs": [],
   "source": [
    "## print/plot cluster sizes\n",
    "table(cluster)\n",
    "barplot( table(cluster) )"
   ]
  },
  {
   "cell_type": "code",
   "execution_count": null,
   "metadata": {},
   "outputs": [],
   "source": [
    "## Some relevant functions for what follows\n",
    "## - Compute full similarity graph: W <- fullgraph(D, sigma)\n",
    "## - Compute eps graph: W <-epsgraph(D, eps, sigma)\n",
    "## - Compute kNN graph: W <- knngraph(D, k, sigma, symmetric), where symmetric in { TRUE, FALSE }\n",
    "## - Show histogram of similarities: hist(as.vector(W))\n",
    "## - Show histogram of \"large\" similarities: hist(as.vector(W[W>0.1]))\n",
    "## - Compute graph Laplacian: laplacian(W, type) where type in { \"unnormalized\", \"symmetric\", \"walk\" }\n",
    "## - Eigenvalue/-vector computation: eigen(L)"
   ]
  },
  {
   "cell_type": "code",
   "execution_count": null,
   "metadata": {},
   "outputs": [],
   "source": [
    "## full similarity graph\n",
    "W <- fullgraph(D, sigma=50)\n",
    "show(W)"
   ]
  },
  {
   "cell_type": "code",
   "execution_count": null,
   "metadata": {},
   "outputs": [],
   "source": [
    "## note that we can already see the clusters here because our data is ordered nicely\n",
    "## this is what our algorithms see, however\n",
    "P <- as(sample(nrow(D)), \"pMatrix\") # random permutation matrix\n",
    "show(P %*% W %*% t(P))"
   ]
  },
  {
   "cell_type": "code",
   "execution_count": null,
   "metadata": {},
   "outputs": [],
   "source": [
    "## corresponding unnormalized graph laplacian\n",
    "L = laplacian(W, \"unnormalized\")\n",
    "show(L)\n",
    "show(pmin(L, 1))  ## truncate values >1"
   ]
  },
  {
   "cell_type": "code",
   "execution_count": null,
   "metadata": {},
   "outputs": [],
   "source": [
    "## cluster vector for testing (it's a k-means result)\n",
    "cluster.test <- c(0, 0, 0, 0, 0, 0, 0, 0, 0, 0, 0, 0, 0, 0, 0, 0, 6, 0, 0, 0, \n",
    "                  0, 0, 0, 0, 0, 0, 0, 0, 0, 0, 0, 0, 0, 0, 0, 0, 0, 0, 0, 0, 0, \n",
    "                  0, 0, 0, 0, 0, 0, 0, 0, 0, 1, 2, 1, 1, 2, 1, 1, 1, 1, 8, 1, 1, \n",
    "                  1, 1, 8, 8, 8, 8, 8, 8, 1, 1, 1, 1, 1, 1, 1, 1, 1, 1, 8, 1, 3, \n",
    "                  1, 1, 3, 3, 3, 3, 3, 8, 1, 1, 1, 8, 1, 1, 8, 1, 1, 2, 2, 2, 2, \n",
    "                  2, 2, 2, 2, 2, 2, 2, 2, 3, 2, 2, 2, 3, 3, 2, 2, 2, 2, 2, 2, 2, \n",
    "                  2, 2, 2, 2, 2, 3, 8, 2, 2, 2, 2, 2, 2, 2, 2, 2, 2, 2, 2, 2, 2, \n",
    "                  2, 2, 2, 2, 3, 3, 3, 3, 3, 3, 3, 3, 3, 3, 3, 3, 7, 3, 3, 3, 3, \n",
    "                  3, 3, 3, 3, 3, 3, 3, 3, 3, 3, 3, 3, 3, 3, 7, 3, 3, 3, 3, 3, 3, \n",
    "                  3, 3, 3, 3, 3, 3, 2, 2, 3, 3, 3, 3, 9, 9, 9, 9, 1, 9, 9, 4, 4, \n",
    "                  4, 4, 4, 4, 4, 9, 4, 4, 4, 4, 4, 4, 4, 4, 4, 4, 4, 4, 4, 4, 4, \n",
    "                  4, 4, 4, 9, 4, 9, 9, 9, 9, 9, 9, 4, 6, 4, 4, 4, 4, 4, 4, 4, 9, \n",
    "                  5, 5, 5, 3, 5, 5, 5, 5, 5, 5, 5, 5, 5, 5, 5, 5, 5, 5, 5, 5, 5, \n",
    "                  5, 5, 3, 5, 5, 5, 5, 5, 5, 5, 5, 5, 5, 5, 5, 5, 3, 3, 5, 5, 5, \n",
    "                  5, 5, 5, 5, 3, 3, 5, 6, 6, 6, 6, 6, 6, 6, 6, 6, 6, 6, 6, 6, 6, \n",
    "                  6, 6, 6, 6, 6, 6, 6, 6, 6, 6, 6, 6, 6, 6, 6, 6, 6, 6, 6, 6, 6, \n",
    "                  6, 6, 6, 6, 6, 6, 6, 6, 6, 6, 6, 6, 6, 6, 6, 7, 7, 7, 7, 7, 7, \n",
    "                  7, 7, 7, 7, 7, 7, 7, 7, 7, 7, 7, 7, 7, 7, 7, 7, 7, 7, 7, 7, 7, \n",
    "                  7, 1, 7, 7, 7, 7, 7, 7, 7, 7, 9, 9, 7, 7, 7, 7, 7, 7, 7, 7, 7, \n",
    "                  9, 7, 8, 8, 8, 0, 0, 8, 8, 8, 8, 8, 8, 8, 8, 8, 5, 8, 8, 8, 8, \n",
    "                  8, 8, 8, 8, 8, 8, 8, 8, 8, 8, 8, 8, 8, 8, 8, 8, 8, 8, 8, 8, 8, \n",
    "                  8, 8, 8, 8, 8, 8, 6, 8, 3, 6, 9, 9, 9, 9, 9, 3, 9, 9, 9, 7, 9, \n",
    "                  9, 9, 7, 9, 3, 3, 3, 3, 3, 9, 9, 1, 9, 9, 9, 9, 9, 9, 9, 3, 9, \n",
    "                  9, 9, 8, 3, 8, 3, 3, 3, 3, 3, 3, 3, 3, 3, 3, 3, 3, 3)"
   ]
  },
  {
   "cell_type": "markdown",
   "metadata": {},
   "source": [
    "# 1 Computing Cut Values"
   ]
  },
  {
   "cell_type": "code",
   "execution_count": null,
   "metadata": {},
   "outputs": [],
   "source": [
    "## function to compute cluster assignment matrix\n",
    "## input: cluster = vector of cluster identifiers (0-9), one for each row of D\n",
    "## output: corresponding cluster assignment matrix\n",
    "cam <- function(cluster) {\n",
    "    C <- matrix(0, nrow(D), 10)\n",
    "    colnames(C) <- 0:9\n",
    "    \n",
    "    ## YOUR CODE HERE\n",
    "    for (i in 1:nrow(D)) {\n",
    "        C[i,cluster[i] + 1] = 1\n",
    "    }\n",
    "\n",
    "    C\n",
    "}\n",
    "\n",
    "## test your method\n",
    "C <- cam(cluster.test)\n",
    "colSums(C) # 51 34 49 84 34 44 54 50 58 42\n",
    "colSums(C[1:100,]) ## 49 31  2  6  0  0  1  0 11  0 \n",
    "unique(as.vector(C)) ## [1] 0 1\n",
    "range(rowSums(C)) ## [1] 1 1"
   ]
  },
  {
   "cell_type": "code",
   "execution_count": null,
   "metadata": {},
   "outputs": [],
   "source": [
    "## compute the value of cut, ratio cut, and normalized cut given an adjacency\n",
    "## matrix and a vector of cluster identifiers\n",
    "cut <- function(W, cluster) {\n",
    "    ## helpful matrices\n",
    "    D <- diag( diag(L) )\n",
    "    L <- laplacian(W, \"unnormalized\")\n",
    "    C <- cam(cluster)\n",
    "        \n",
    "    ## YOUR CODE HERE (recall exercise 5.3 + solution)\n",
    "    cut <- 0\n",
    "    rcut <- 0\n",
    "    ncut <- 0\n",
    "    \n",
    "    for (k in 0:9) {\n",
    "        A <- C[,k + 1] == 1\n",
    "        W.ck <- sum(W[A,!A])\n",
    "        \n",
    "        cut <- cut + W.ck\n",
    "        rcut <- rcut + W.ck / sum(A)\n",
    "        ncut <- ncut + W.ck / sum(D[A])\n",
    "    }\n",
    "        \n",
    "    result <- c(0.5 * cut, rcut, ncut)\n",
    "    names(result) <- c(\"cut\", \"rcut\", \"ncut\")\n",
    "    result\n",
    "}\n",
    "\n",
    "## test your method\n",
    "W <- fullgraph(D, sigma=50)\n",
    "cut(W, cluster.test) ## 67421.076896  2705.907871     8.763376"
   ]
  },
  {
   "cell_type": "code",
   "execution_count": null,
   "metadata": {},
   "outputs": [],
   "source": [
    "## let's compare\n",
    "compare <- function(W, cluster) {\n",
    "    M <- rbind( cut(W, labels), cut(W, cluster) )\n",
    "    rownames(M) <- c(\"label\", \"clustering\")\n",
    "    M\n",
    "}\n",
    "compare(W, cluster.test)"
   ]
  },
  {
   "cell_type": "code",
   "execution_count": null,
   "metadata": {},
   "outputs": [],
   "source": [
    "## or visually\n",
    "barplot( compare(W, cluster), beside=TRUE, legend=c(\"labels\", \"clustering\") )"
   ]
  },
  {
   "cell_type": "markdown",
   "metadata": {},
   "source": [
    "# 2 Similarity Graphs"
   ]
  },
  {
   "cell_type": "code",
   "execution_count": null,
   "metadata": {},
   "outputs": [],
   "source": [
    "## 2.a: Try different values for sigma\n",
    "\n",
    "for (sigma in c(10, 30, 50, 70)) {\n",
    "    W <- fullgraph(D, sigma=sigma)\n",
    "    print(show(W))\n",
    "    hist(as.vector(W))\n",
    "}"
   ]
  },
  {
   "cell_type": "code",
   "execution_count": null,
   "metadata": {},
   "outputs": [],
   "source": [
    "## 2.b: Find smallest epsilon such that the epsilon-neighborhood\n",
    "##      is connected\n",
    "\n",
    "# Pick an eps such that only the last eigenvalue is zero\n",
    "W <- epsgraph(D, eps=34, sigma=50)\n",
    "L = laplacian(W, \"unnormalized\")\n",
    "eigen(L)$values[499:500]\n",
    "\n",
    "print(show(W))"
   ]
  },
  {
   "cell_type": "code",
   "execution_count": null,
   "metadata": {},
   "outputs": [],
   "source": [
    "## 2.b: Find smallest k such that the symmetric kNN graph is connected\n",
    "\n",
    "W <- knngraph(D, k=4, sigma=50, symmetric=TRUE)\n",
    "L = laplacian(W, \"unnormalized\")\n",
    "eigen(L)$values[499:500]\n",
    "\n",
    "print(show(W))"
   ]
  },
  {
   "cell_type": "code",
   "execution_count": null,
   "metadata": {},
   "outputs": [],
   "source": [
    "## 2.b: Find smallest k such that the mutual kNN graph is connected\n",
    "\n",
    "W <- knngraph(D, k=26, sigma=50, symmetric=FALSE)\n",
    "L = laplacian(W, \"unnormalized\")\n",
    "eigen(L)$values[499:500]\n",
    "\n",
    "print(show(W))"
   ]
  },
  {
   "cell_type": "code",
   "execution_count": null,
   "metadata": {},
   "outputs": [],
   "source": [
    "## 2.c.: Manually determine values for sigma and k that appear suitable\n",
    "\n",
    "# We found that sigma=30 works good for fully connected graphs\n",
    "# and k = log(n) => log(500) = 2.69 => k = 3 is a general recommendation\n",
    "W <- knngraph(D, k=3, sigma=30, symmetric=TRUE)\n",
    "L = laplacian(W, \"unnormalized\")\n",
    "eigen(L)$values[499:500]\n",
    "\n",
    "print(show(W))"
   ]
  },
  {
   "cell_type": "code",
   "execution_count": null,
   "metadata": {},
   "outputs": [],
   "source": [
    "# Found a fully connected graph for k=4\n",
    "W <- knngraph(D, k=4, sigma=30, symmetric=TRUE)\n",
    "L = laplacian(W, \"unnormalized\")\n",
    "eigen(L)$values[499:500]\n",
    "\n",
    "print(show(W))"
   ]
  },
  {
   "cell_type": "code",
   "execution_count": null,
   "metadata": {},
   "outputs": [],
   "source": [
    "# Try a bigger sigma value und check if something changes\n",
    "W <- knngraph(D, k=4, sigma=80, symmetric=TRUE)\n",
    "L = laplacian(W, \"unnormalized\")\n",
    "eigen(L)$values[499:500]\n",
    "\n",
    "print(show(W))"
   ]
  },
  {
   "cell_type": "code",
   "execution_count": null,
   "metadata": {},
   "outputs": [],
   "source": [
    "# Try a bigger k\n",
    "W <- knngraph(D, k=25, sigma=30, symmetric=TRUE)\n",
    "\n",
    "print(show(W))"
   ]
  },
  {
   "cell_type": "markdown",
   "metadata": {},
   "source": [
    "# 3 Spectral Clustering"
   ]
  },
  {
   "cell_type": "code",
   "execution_count": null,
   "metadata": {},
   "outputs": [],
   "source": [
    "## 3.a: Cluster the raw digits data using k-means\n",
    "cluster <- match( kmeans(D, 10, nstart=100)$cluster - 1 )\n",
    "\n",
    "# let's see how good the clustering is with respect to the true numbers\n",
    "cm(cluster)$overall[\"Accuracy\"] # 82%\n",
    "cm(cluster)\n",
    "\n",
    "# visualize the clusters (each column is one cluster)\n",
    "show.digits(cluster) \n",
    "\n",
    "# just the errors\n",
    "show.digits(cluster, cluster!=labels) \n",
    "\n",
    "# print/plot cluster sizes\n",
    "table(cluster)\n",
    "barplot( table(cluster) )"
   ]
  },
  {
   "cell_type": "code",
   "execution_count": null,
   "metadata": {},
   "outputs": [],
   "source": [
    "## 3.a: Cluster the first 10 pca scores using k-means\n",
    "pca.scores <- prcomp(D)$x[,1:10]\n",
    "\n",
    "cluster <- match( kmeans(pca.scores, 10, nstart=100)$cluster - 1 )\n",
    "\n",
    "# let's see how good the clustering is with respect to the true numbers\n",
    "cm(cluster)$overall[\"Accuracy\"] \n",
    "cm(cluster)\n",
    "\n",
    "# visualize the clusters (each column is one cluster)\n",
    "show.digits(cluster) \n",
    "\n",
    "# just the errors\n",
    "show.digits(cluster, cluster!=labels) \n",
    "\n",
    "# print/plot cluster sizes\n",
    "table(cluster)\n",
    "barplot( table(cluster) )"
   ]
  },
  {
   "cell_type": "code",
   "execution_count": null,
   "metadata": {},
   "outputs": [],
   "source": [
    "# recompute W with params from 2.c\n",
    "W <- knngraph(D, k=25, sigma=30, symmetric=TRUE)\n",
    "\n",
    "# plot each digit's embeddings along eigenvectors of given eigenvalues numbers\n",
    "plot.eigen <- function(L, which, xlim=c(-0.1,0.1), ylim=c(-0.1,0.1)) {\n",
    "    E <- eigen(L)$vectors[,which]\n",
    "    d <- data.frame(E)\n",
    "    colnames(d) <- which\n",
    "    plot(d, col=labels, xlim=xlim, ylim=ylim, asp=1)\n",
    "}\n",
    "\n",
    "plot.eigen( laplacian(W, \"unnormalized\"), nrow(D)-(0:9) )\n",
    "\n",
    "# plot embeddings for a given digit\n",
    "digit <- 3\n",
    "ggplotm({ M <- eigen(L)$vectors[labels==digit,nrow(D)-(0:9)]; colnames(M) <- nrow(D)-0:9; M }, label.color=NA)"
   ]
  },
  {
   "cell_type": "code",
   "execution_count": null,
   "metadata": {
    "scrolled": false
   },
   "outputs": [],
   "source": [
    "## 3.b: Use parameters from 2.c and run Spectral Clustering\n",
    "W <- knngraph(D, k=25, sigma=30, symmetric=TRUE)\n",
    "L <- laplacian(W, \"unnormalized\")\n",
    "u <- eigen(L)$vectors[,500:491]\n",
    "U <- data.frame(u)\n",
    "\n",
    "## run k-means\n",
    "cluster <- match( kmeans(U, 10, nstart=100)$cluster - 1 )\n",
    "\n",
    "## let's see how good the clustering is with respect to the true numbers\n",
    "cm(cluster)$overall[\"Accuracy\"] \n",
    "cm(cluster)\n",
    "\n",
    "## visualize the clusters (each column is one cluster)\n",
    "show.digits(cluster) \n",
    "\n",
    "## just the errors\n",
    "show.digits(cluster, cluster!=labels) \n",
    "\n",
    "## print/plot cluster sizes\n",
    "table(cluster)\n",
    "barplot( table(cluster) )"
   ]
  },
  {
   "cell_type": "code",
   "execution_count": null,
   "metadata": {},
   "outputs": [],
   "source": [
    "## 3.c: Apply eigengap heuristic to find good number of clusters\n",
    "W <- knngraph(D, k=25, sigma=30, symmetric=TRUE)\n",
    "L <- laplacian(W, \"unnormalized\")\n",
    "plot(400:500, eigen(L)$values[400:500], type=\"p\", xlab=\"index\", ylab=\"eigenvalue\")"
   ]
  },
  {
   "cell_type": "code",
   "execution_count": null,
   "metadata": {
    "scrolled": false
   },
   "outputs": [],
   "source": [
    "## 3.d: Tune the parameters to get accuracy > 0.88\n",
    "W <- knngraph(D, k=5, sigma=10, symmetric=TRUE)\n",
    "L <- laplacian(W, \"unnormalized\")\n",
    "u <- eigen(L)$vectors[,500:491]\n",
    "U <- data.frame(u)\n",
    "\n",
    "print(show(W))\n",
    "\n",
    "## run k-means\n",
    "cluster <- match( kmeans(U, 10, nstart=100)$cluster - 1 )\n",
    "\n",
    "## let's see how good the clustering is with respect to the true numbers\n",
    "cm(cluster)$overall[\"Accuracy\"] \n",
    "cm(cluster)\n",
    "\n",
    "## visualize the clusters (each column is one cluster)\n",
    "show.digits(cluster) \n",
    "\n",
    "## just the errors\n",
    "show.digits(cluster, cluster!=labels) \n",
    "\n",
    "## print/plot cluster sizes\n",
    "table(cluster)\n",
    "barplot( table(cluster) )"
   ]
  },
  {
   "cell_type": "code",
   "execution_count": null,
   "metadata": {},
   "outputs": [],
   "source": []
  }
 ],
 "metadata": {
  "kernelspec": {
   "display_name": "R",
   "language": "R",
   "name": "ir"
  },
  "language_info": {
   "codemirror_mode": "r",
   "file_extension": ".r",
   "mimetype": "text/x-r-source",
   "name": "R",
   "pygments_lexer": "r",
   "version": "3.4.1"
  }
 },
 "nbformat": 4,
 "nbformat_minor": 2
}
