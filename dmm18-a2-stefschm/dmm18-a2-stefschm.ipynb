{
 "cells": [
  {
   "cell_type": "code",
   "execution_count": null,
   "metadata": {},
   "outputs": [],
   "source": [
    "library(grid)\n",
    "library(Matrix)\n",
    "library(jpeg)\n",
    "source(\"support/util.R\")"
   ]
  },
  {
   "cell_type": "code",
   "execution_count": null,
   "metadata": {},
   "outputs": [],
   "source": [
    "# read the sample\n",
    "D = readMM(\"data/image_sample.mmc\")\n",
    "Dsummary <- summary(D)\n",
    "names(Dsummary) <- c(\"i\", \"j\", \"d\")\n",
    "m <- nrow(D)               # number of rows\n",
    "n <- ncol(D)               # number of columns\n",
    "is <- Dsummary$i           # row of each revealed entry\n",
    "js <- Dsummary$j           # column of each revealed entry\n",
    "ds <- Dsummary$d           # value of each revealed entry\n",
    "N <- length(is)            # number of revealed entries\n",
    "Nis <- nnz(is, m)          # for each row, number of revealed entries\n",
    "Njs <- nnz(js, n)          # for each column, number of revealed entries\n",
    "\n",
    "# show the sample\n",
    "showgray(D)"
   ]
  },
  {
   "cell_type": "code",
   "execution_count": null,
   "metadata": {},
   "outputs": [],
   "source": [
    "## randomly permute the rows and columns of the data\n",
    "Prow <- as(sample(m), \"pMatrix\")\n",
    "Pcol <- as(sample(n), \"pMatrix\")\n",
    "Dperm <- Prow %*% D %*% Pcol\n",
    "\n",
    "## this is how a matrix factorization algorithm sees the data\n",
    "## -> all the \"visible structure\" is gone\n",
    "showgray(Dperm)"
   ]
  },
  {
   "cell_type": "code",
   "execution_count": null,
   "metadata": {},
   "outputs": [],
   "source": [
    "## but it's still the same data (let's permute back)\n",
    "showgray(solve(Prow) %*% Dperm %*% solve(Pcol))"
   ]
  },
  {
   "cell_type": "code",
   "execution_count": null,
   "metadata": {},
   "outputs": [],
   "source": [
    "## example usage: print the 10th revealed entry\n",
    "cat(\"D[\", is[10], \",\", js[10], \"]=\", ds[10], \"\\n\", sep=\"\")"
   ]
  },
  {
   "cell_type": "code",
   "execution_count": null,
   "metadata": {},
   "outputs": [],
   "source": [
    "## pick a starting point (rank 10)\n",
    "set.seed(1, kind=\"Mersenne-Twister\")\n",
    "r <- 10\n",
    "L0.r10 <- matrix(rnorm(m*r), m, r)/sqrt(r)\n",
    "R0.r10 <- matrix(rnorm(r*n), r, n)/sqrt(r)\n",
    "\n",
    "## norm of starting point (should give 16.05334 and 18.04857)\n",
    "norm(L0.r10, 'F')\n",
    "norm(R0.r10, 'F')"
   ]
  },
  {
   "cell_type": "markdown",
   "metadata": {},
   "source": [
    "# 1 Computing the Loss Function"
   ]
  },
  {
   "cell_type": "code",
   "execution_count": null,
   "metadata": {
    "scrolled": false
   },
   "outputs": [],
   "source": [
    "## Compute the loss of factorization LR with L2 regularization (parameter lambda)\n",
    "\n",
    "loss <- function(L, R, lambda) {\n",
    "    ### YOUR CODE HERE ###\n",
    "    ll <- 0\n",
    "    for (ind in c(1:N)) { \n",
    "        ll <- ll + (D[is[ind],js[ind]] - (L %*% R)[is[ind],js[ind]])^2\n",
    "    }    \n",
    "    reg <- (lambda / 2) * (norm(L, \"F\")^2 + norm(R, \"F\")^2)\n",
    "    ll + reg\n",
    "}\n",
    "\n",
    "## loss of starting point with lambda=2 (should give 3865.816)\n",
    "loss(L0.r10, R0.r10, 2)"
   ]
  },
  {
   "cell_type": "markdown",
   "metadata": {},
   "source": [
    "# 2 Computing the Local Gradients"
   ]
  },
  {
   "cell_type": "code",
   "execution_count": null,
   "metadata": {},
   "outputs": [],
   "source": [
    "## Compute gradient w.r.t. l_i and r_j of the local loss of the p-th revelead\n",
    "## entry for factorization LR with L2 regularization (parameter lambda). Returns\n",
    "## a list containing vector elements Li and Rj.\n",
    "dlossp <- function(L, R, lambda, p) {\n",
    "    i <- is[p]\n",
    "    j <- js[p]\n",
    "    d <- ds[p]\n",
    "\n",
    "    ### YOUR CODE HERE ###\n",
    "    ## create two length-r vectors dLi and dRj\n",
    "    ## * dLi[k] contains the gradient of the local loss with respect to l_ik\n",
    "    ## * dRi[k] contains the gradient of the local loss with respect to r_kj\n",
    "    dLi <- -2*(d - L[i,] %*% R[,j])*R[,j] + (lambda/Nis[i])*L[i,]\n",
    "    dRj <- -2*(d - L[i,] %*% R[,j])*L[i,] + (lambda/Njs[j])*R[,j]\n",
    "\n",
    "    ## return the result as a list\n",
    "    ## (elements can be accessed with x$Li or x$Ri, where x is the returned list)\n",
    "    list(Li=dLi, Rj=dRj)\n",
    "}\n",
    "\n",
    "## test local gradient computation for 10th entry; should give:\n",
    "## $Li\n",
    "##  [1] -0.022076386  0.055660021  0.016555157  0.068076690  0.025315001\n",
    "##  [6]  0.001815675  0.078699632  0.026119761  0.013711859  0.004034443\n",
    "##\n",
    "## $Rj\n",
    "##  [1] -0.03494084  0.07994425  0.05441889  0.05581750  0.01939717 -0.01477114\n",
    "##  [7]  0.04630433  0.02940866 -0.05088697  0.01276903\n",
    "dlossp(L0.r10, R0.r10, 2, 10)"
   ]
  },
  {
   "cell_type": "markdown",
   "metadata": {},
   "source": [
    "# 3 Implementing Gradient Descent"
   ]
  },
  {
   "cell_type": "code",
   "execution_count": null,
   "metadata": {
    "scrolled": false
   },
   "outputs": [],
   "source": [
    "## Run a gradient descent epoch (L and R are starting points, eps is\n",
    "## stepsize). Returns a list with matrix elements L and R, containing the\n",
    "## updated factor matrices.\n",
    "gdepoch <- function(L, R, lambda, eps) {\n",
    "    ## create gradient matrices\n",
    "    dL <- matrix(0, m, r)\n",
    "    dR <- matrix(0, r, n)\n",
    "\n",
    "    ### YOUR CODE HERE ###\n",
    "    ## fill the gradient matrices using repeated calls to\n",
    "    ## your dlossp function\n",
    "    options(warn=-1) # ignore warnings to keep output clear\n",
    "    for (ind in c(1:N)) {\n",
    "        loss <- dlossp(L,R,lambda,ind)\n",
    "        dL[is[ind],] <- dL[is[ind],] + loss$Li\n",
    "        dR[,js[ind]] <- dR[,js[ind]] + loss$Rj\n",
    "    }\n",
    "    options(warn=0) # reenable warnings\n",
    "    \n",
    "    ### YOUR CODE HERE ###\n",
    "    ## perform a gradient step on L and R with step size eps\n",
    "    ## by using the gradient matrices\n",
    "    L <- L - eps * dL\n",
    "    R <- R - eps * dR\n",
    "    \n",
    "    ## return result\n",
    "    list(L=L, R=R)\n",
    "}\n",
    "\n",
    "## test the gd epoch and print 5th row of L; should give\n",
    "##  [1]  0.07822179  0.29110406  0.67363404 -0.27527854 -0.36139164  0.20011846\n",
    "##  [7] -0.35296692  0.08101832 -0.01417779  0.01627573\n",
    "gdepoch(L0.r10, R0.r10, 2, 0.01)$L[5,]"
   ]
  },
  {
   "cell_type": "code",
   "execution_count": null,
   "metadata": {},
   "outputs": [],
   "source": [
    "##' Runner for gradient descent (or stochastic gradient descent) for the\n",
    "##' specified number of epochs.\n",
    "##'\n",
    "##' @param f function for running an epoch. Takes parameters L, R, lambda, and\n",
    "##'          eps.\n",
    "##' @param L0 starting point for L\n",
    "##' @param R0 starting point for R\n",
    "##' @param lambda regularization parameter\n",
    "##' @param epoch number of epochs to run\n",
    "##' @param Initial step size. Updated using bold driver.\n",
    "##'\n",
    "##' @return a list with matrix elements L and R, containing the\n",
    "##'         updated factor matrices\n",
    "runner <- function(f, L0, R0, lambda, epochs=50, eps=0.01) {\n",
    "    LR <- list(L=L0, R=R0)\n",
    "    cur.loss <- loss(LR$L, LR$R, lambda)\n",
    "    for (epoch in 1:epochs) {\n",
    "        cat(\"Epoch\", epoch, \", loss:\", cur.loss , \"\\n\")\n",
    "        LR <- f(LR$L, LR$R, lambda, eps)\n",
    "\n",
    "        ## bold driver step size update\n",
    "        old.loss <- cur.loss\n",
    "        cur.loss <- loss(LR$L, LR$R, lambda)\n",
    "        if (old.loss<cur.loss) {\n",
    "            eps <- eps/2\n",
    "        } else {\n",
    "            eps <- eps*1.05\n",
    "        }\n",
    "    }\n",
    "    LR\n",
    "}"
   ]
  },
  {
   "cell_type": "markdown",
   "metadata": {},
   "source": [
    "## Running Gradient Descent"
   ]
  },
  {
   "cell_type": "code",
   "execution_count": null,
   "metadata": {},
   "outputs": [],
   "source": [
    "## example run\n",
    "result.gd.r10.l2 <- runner(gdepoch, L0.r10, R0.r10, 2, epochs=5, eps=0.01)\n",
    "\n",
    "## show result\n",
    "showgray(result.gd.r10.l2$L %*% result.gd.r10.l2$R)"
   ]
  },
  {
   "cell_type": "code",
   "execution_count": null,
   "metadata": {},
   "outputs": [],
   "source": [
    "## nothing much to see, let's run more epochs\n",
    "result.gd.r10.l2 <- runner(gdepoch, result.gd.r10.l2$L, result.gd.r10.l2$R, 2, epochs=15, eps=0.01)\n",
    "\n",
    "## show result\n",
    "showgray(result.gd.r10.l2$L %*% result.gd.r10.l2$R)"
   ]
  },
  {
   "cell_type": "code",
   "execution_count": null,
   "metadata": {},
   "outputs": [],
   "source": [
    "## getting better, run even longer (this takes a while)\n",
    "result.gd.r10.l2 <- runner(gdepoch, result.gd.r10.l2$L, result.gd.r10.l2$R, 2, epochs=50, eps=0.01)\n",
    "Bo\n",
    "## show result\n",
    "showgray(result.gd.r10.l2$L %*% result.gd.r10.l2$R)"
   ]
  },
  {
   "cell_type": "code",
   "execution_count": null,
   "metadata": {},
   "outputs": [],
   "source": [
    "## you can save all your variables as follows so that you do not\n",
    "## have to repeat computations\n",
    "## save(list = ls(all=TRUE), file = \"mydata.RData\")\n",
    "\n",
    "## and load it back in\n",
    "## load(\"mydata.RData\")"
   ]
  },
  {
   "cell_type": "markdown",
   "metadata": {},
   "source": [
    "# 4 Implementing Stochastic Gradient Descent"
   ]
  },
  {
   "cell_type": "code",
   "execution_count": null,
   "metadata": {},
   "outputs": [],
   "source": [
    "## Run a stochastic gradient descent epoch. Uses same parameters and return\n",
    "## values as gdepoch.\n",
    "sgdepoch <- function(L, R, lambda, eps) {\n",
    "    options(warn=-1) # ignore warnings to keep output clear\n",
    "    for (p in sample(length(is))) {\n",
    "        i <- is[p]\n",
    "        j <- js[p]\n",
    "\n",
    "        ### YOUR CODE HERE ###\n",
    "        ## perform a stochastic gradient descent step on revealed entry p\n",
    "        ## with step size eps\n",
    "        ## Use dlossp to compute the local gradient of entry (i,j), then update\n",
    "        ## L[i,] and R[,j] using step size eps. Do not scale up this gradient\n",
    "        ## by the number N of nonzero entries (i.e., proceed differently as in\n",
    "        ## the lecture slides)\n",
    "        loss <- dlossp(L,R,lambda,p)\n",
    "        L[i,] <- L[i,] - eps * loss$Li\n",
    "        R[,j] <- R[,j] - eps * loss$Rj\n",
    "    }\n",
    "     options(warn=0) # reenable warnings\n",
    "\n",
    "    ## return result\n",
    "    list(L=L, R=R)\n",
    "}\n",
    "\n",
    "## test the sgd epoch and print 5th row of L; should give\n",
    "## [1]  0.08011912  0.29800567  0.68218450 -0.27644483 -0.37742701  0.20463166\n",
    "## [7] -0.36247519  0.07971791 -0.01823091  0.01838559\n",
    "set.seed(2, kind=\"Mersenne-Twister\")\n",
    "sgdepoch(L0.r10, R0.r10, 2, 0.01)$L[5,]"
   ]
  },
  {
   "cell_type": "markdown",
   "metadata": {},
   "source": [
    "## Running Stochastic Gradient Descent"
   ]
  },
  {
   "cell_type": "code",
   "execution_count": null,
   "metadata": {},
   "outputs": [],
   "source": [
    "## example run (this takes a while)\n",
    "result.sgd.r10.l2 <- runner(sgdepoch, L0.r10, R0.r10, 2)\n",
    "\n",
    "## show result\n",
    "showgray(result.sgd.r10.l2$L %*% result.sgd.r10.l2$R)"
   ]
  },
  {
   "cell_type": "markdown",
   "metadata": {},
   "source": [
    "# 5 Impact of Parameter Choices"
   ]
  },
  {
   "cell_type": "code",
   "execution_count": null,
   "metadata": {},
   "outputs": [],
   "source": [
    "## YOUR CODE HERE ##\n",
    "## now try values of lambda, ranks, etc. as described in the\n",
    "## assignment\n",
    "set.seed(1, kind=\"Mersenne-Twister\")\n",
    "\n",
    "# Compute r = 10 and lambda = 2\n",
    "r <- 10\n",
    "lambda <- 2\n",
    "L.r10.l2 <- matrix(rnorm(m*r), m, r)/sqrt(r)\n",
    "R.r10.l2 <- matrix(rnorm(r*n), r, n)/sqrt(r)\n",
    "\n",
    "result.sgd.r10.l2 <- runner(sgdepoch, L.r10.l2, R.r10.l2, lambda)\n",
    "\n",
    "## show result\n",
    "showgray(result.sgd.r10.l2$L %*% result.sgd.r10.l2$R)"
   ]
  },
  {
   "cell_type": "code",
   "execution_count": null,
   "metadata": {},
   "outputs": [],
   "source": [
    "## YOUR CODE HERE ##\n",
    "## now try values of lambda, ranks, etc. as described in the\n",
    "## assignment\n",
    "set.seed(1, kind=\"Mersenne-Twister\")\n",
    "\n",
    "# Compute r = 10 and lambda = 0\n",
    "r <- 10\n",
    "lambda <- 0\n",
    "L.r10.l0 <- matrix(rnorm(m*r), m, r)/sqrt(r)\n",
    "R.r10.l0 <- matrix(rnorm(r*n), r, n)/sqrt(r)\n",
    "\n",
    "result.sgd.r10.l0 <- runner(sgdepoch, L.r10.l0, R.r10.l0, lambda)\n",
    "\n",
    "## show result\n",
    "showgray(result.sgd.r10.l0$L %*% result.sgd.r10.l0$R)"
   ]
  },
  {
   "cell_type": "code",
   "execution_count": null,
   "metadata": {},
   "outputs": [],
   "source": [
    "## YOUR CODE HERE ##\n",
    "## now try values of lambda, ranks, etc. as described in the\n",
    "## assignment\n",
    "set.seed(1, kind=\"Mersenne-Twister\")\n",
    "\n",
    "# Compute r = 10 and lambda = 20\n",
    "r <- 10\n",
    "lambda <- 20\n",
    "L.r10.l20 <- matrix(rnorm(m*r), m, r)/sqrt(r)\n",
    "R.r10.l20 <- matrix(rnorm(r*n), r, n)/sqrt(r)\n",
    "\n",
    "result.sgd.r10.l20 <- runner(sgdepoch, L.r10.l20, R.r10.l20, lambda)\n",
    "\n",
    "## show result\n",
    "showgray(result.sgd.r10.l20$L %*% result.sgd.r10.l20$R)"
   ]
  },
  {
   "cell_type": "code",
   "execution_count": null,
   "metadata": {},
   "outputs": [],
   "source": [
    "## YOUR CODE HERE ##\n",
    "## now try values of lambda, ranks, etc. as described in the\n",
    "## assignment\n",
    "set.seed(1, kind=\"Mersenne-Twister\")\n",
    "\n",
    "# Compute r = 1 and lambda = 0\n",
    "r <- 1\n",
    "lambda <- 0\n",
    "L.r1.l0 <- matrix(rnorm(m*r), m, r)/sqrt(r)\n",
    "R.r1.l0 <- matrix(rnorm(r*n), r, n)/sqrt(r)\n",
    "\n",
    "result.sgd.r1.l0 <- runner(sgdepoch, L.r1.l0, R.r1.l0, lambda)\n",
    "\n",
    "## show result\n",
    "showgray(result.sgd.r1.l0$L %*% result.sgd.r1.l0$R)"
   ]
  },
  {
   "cell_type": "code",
   "execution_count": null,
   "metadata": {},
   "outputs": [],
   "source": [
    "## YOUR CODE HERE ##\n",
    "## now try values of lambda, ranks, etc. as described in the\n",
    "## assignment\n",
    "set.seed(1, kind=\"Mersenne-Twister\")\n",
    "\n",
    "# Compute r = 20 and lambda = 2\n",
    "r <- 20\n",
    "lambda <- 2\n",
    "L.r20.l2 <- matrix(rnorm(m*r), m, r)/sqrt(r)\n",
    "R.r20.l2 <- matrix(rnorm(r*n), r, n)/sqrt(r)\n",
    "\n",
    "result.sgd.r20.l2 <- runner(sgdepoch, L.r20.l2, R.r20.l2, lambda)\n",
    "\n",
    "## show result\n",
    "showgray(result.sgd.r20.l2$L %*% result.sgd.r20.l2$R)"
   ]
  }
 ],
 "metadata": {
  "kernelspec": {
   "display_name": "R",
   "language": "R",
   "name": "ir"
  },
  "language_info": {
   "codemirror_mode": "r",
   "file_extension": ".r",
   "mimetype": "text/x-r-source",
   "name": "R",
   "pygments_lexer": "r",
   "version": "3.4.3"
  }
 },
 "nbformat": 4,
 "nbformat_minor": 2
}
