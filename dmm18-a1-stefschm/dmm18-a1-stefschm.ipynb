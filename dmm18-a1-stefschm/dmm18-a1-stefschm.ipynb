{
 "cells": [
  {
   "cell_type": "code",
   "execution_count": null,
   "metadata": {},
   "outputs": [],
   "source": [
    "source(\"support/util.R\")"
   ]
  },
  {
   "cell_type": "markdown",
   "metadata": {},
   "source": [
    "# 1. Intuition on SVD"
   ]
  },
  {
   "cell_type": "code",
   "execution_count": null,
   "metadata": {},
   "outputs": [],
   "source": [
    "M1 <- matrix(c(1,1,1,0,0,\n",
    "               1,1,1,0,0,\n",
    "               1,1,1,0,0,\n",
    "               0,0,0,0,0,\n",
    "               0,0,0,0,0\n",
    "               ), 5, 5, byrow=T)\n",
    "\n",
    "M2 <- matrix(c(0,0,0,0,0,\n",
    "               0,2,1,2,0,\n",
    "               0,2,1,2,0,\n",
    "               0,2,1,2,0,\n",
    "               0,0,0,0,0\n",
    "               ), 5, 5, byrow=T)\n",
    "\n",
    "M3 <- matrix(c(0,0,0,0,\n",
    "               0,1,1,1,\n",
    "               0,1,1,1,\n",
    "               0,1,1,1,\n",
    "               0,1,1,1\n",
    "               ), 5, 4, byrow=T)\n",
    "\n",
    "M4 <- matrix(c(1,1,1,0,0,\n",
    "               1,1,1,0,0,\n",
    "               1,1,1,0,0,\n",
    "               0,0,0,1,1,\n",
    "               0,0,0,1,1\n",
    "               ), 5, 5, byrow=T)\n",
    "\n",
    "M5 <- matrix(c(1,1,1,0,0,\n",
    "               1,1,1,0,0,\n",
    "               1,1,1,1,1,\n",
    "               0,0,1,1,1,\n",
    "               0,0,1,1,1\n",
    "               ), 5, 5, byrow=T)\n",
    "\n",
    "M6 <- matrix(c(1,1,1,1,1,\n",
    "               1,1,1,1,1,\n",
    "               1,1,0,1,1,\n",
    "               1,1,1,1,1,\n",
    "               1,1,1,1,1\n",
    "               ), 5, 5, byrow=T)"
   ]
  },
  {
   "cell_type": "code",
   "execution_count": null,
   "metadata": {},
   "outputs": [],
   "source": [
    "## 1a\n",
    "## YOUR PART\n",
    "\n",
    "# M1\n",
    "U1 <- matrix(c(1,1,1,0,0), 5, 1, byrow=T)\n",
    "S1 <- matrix(c(1), 1, 1, byrow=T)\n",
    "V1 <- matrix(c(1,1,1,0,0), 5, 1, byrow=T)\n",
    "U1 %*% S1 %*% t(V1)\n",
    "\n",
    "# M2\n",
    "U2 <- matrix(c(0,1,1,1,0), 5, 1, byrow=T)\n",
    "S2 <- matrix(c(1), 1, 1, byrow=T)\n",
    "V2 <- matrix(c(0,2,1,2,0), 5, 1, byrow=T)\n",
    "U2 %*% S2 %*% t(V2)\n",
    "\n",
    "# M3\n",
    "U3 <- matrix(c(0,1,1,1,1), 5, 1, byrow=T)\n",
    "S3 <- matrix(c(1), 1, 1, byrow=T)\n",
    "V3 <- matrix(c(0,1,1,1), 4, 1, byrow=T)\n",
    "U3 %*% S3 %*% t(V3)\n",
    "\n",
    "# M4\n",
    "U4 <- matrix(c(1,0,\n",
    "               1,0,\n",
    "               1,0,\n",
    "               0,1,\n",
    "               0,1), 5, 2, byrow=T)\n",
    "S4 <- matrix(c(1,0,\n",
    "               0,1), 2, 2, byrow=T)\n",
    "V4 <- matrix(c(1,0,\n",
    "               1,0,\n",
    "               1,0,\n",
    "               0,1,\n",
    "               0,1), 5, 2, byrow=T)\n",
    "U4 %*% S4 %*% t(V4)\n",
    "\n",
    "# M5\n",
    "U5 <- matrix(c(1,0,0,\n",
    "               1,0,0,\n",
    "               1,1,1,\n",
    "               0,0,1,\n",
    "               0,0,1), 5, 3, byrow=T)\n",
    "S5 <- matrix(c(1,0,0,\n",
    "               0,1,0,\n",
    "               0,0,1), 3, 3, byrow=T)\n",
    "V5 <- matrix(c(1,0,0,\n",
    "               1,0,0,\n",
    "               1,-1,1,\n",
    "               0,0,1,\n",
    "               0,0,1), 5, 3, byrow=T)\n",
    "U5 %*% S5 %*% t(V5)\n",
    "\n",
    "# M6\n",
    "U6 <- matrix(c(1,0,\n",
    "               1,0,\n",
    "               1,1,\n",
    "               1,0,\n",
    "               1,0), 5, 2, byrow=T)\n",
    "S6 <- matrix(c(1,0,\n",
    "               0,1), 2, 2, byrow=T)\n",
    "V6 <- matrix(c(1,0,\n",
    "               1,0,\n",
    "               1,-1,\n",
    "               1,0,\n",
    "               1,0), 5, 2, byrow=T)\n",
    "U6 %*% S6 %*% t(V6)"
   ]
  },
  {
   "cell_type": "code",
   "execution_count": null,
   "metadata": {},
   "outputs": [],
   "source": [
    "## 1b\n",
    "## YOUR PART\n",
    "\"SVD of M1\"\n",
    "svd(M1)\n",
    "\n",
    "\"SVD of M2\"\n",
    "svd(M2)\n",
    "\n",
    "\"SVD of M3\"\n",
    "svd(M3)\n",
    "\n",
    "\"SVD of M4\"\n",
    "svd(M4)\n",
    "\n",
    "\"SVD of M5\"\n",
    "svd(M5)\n",
    "\n",
    "\"SVD of M6\"\n",
    "svd(M6)"
   ]
  },
  {
   "cell_type": "code",
   "execution_count": null,
   "metadata": {},
   "outputs": [],
   "source": [
    "# 1c\n",
    "## You can use the function \"svdcomp\" and \"ggplotm\" from util.R.\n",
    "## YOUR PART\n",
    "\"rank-1 approximation of M4\"\n",
    "svdcomp(svd(M4), 1:1)\n",
    "\n",
    "\"rank-1 approximation of M5\"\n",
    "svdcomp(svd(M5), 1:1)\n",
    "\n",
    "\"rank-1 approximation of M6\"\n",
    "svdcomp(svd(M6), 1:1)"
   ]
  },
  {
   "cell_type": "code",
   "execution_count": null,
   "metadata": {},
   "outputs": [],
   "source": [
    "## 1d\n",
    "## A better method to compute the rank in R is rankMatrix()\n",
    "## YOUR PART\n",
    "svd(M6)$d\n",
    "rankMatrix(M6)\n",
    "svdcomp(svd(M6), 1:2)"
   ]
  },
  {
   "cell_type": "markdown",
   "metadata": {},
   "source": [
    "# 2. The SVD on Weather Data"
   ]
  },
  {
   "cell_type": "code",
   "execution_count": null,
   "metadata": {},
   "outputs": [],
   "source": [
    "## Load the data\n",
    "climate <- as.matrix(read.csv(\"data/worldclim.csv\"))\n",
    "coord <- as.matrix(read.csv(\"data/worldclim_coordinates.csv\"))\n",
    "\n",
    "## Plot the coordinates\n",
    "plot(coord, asp=1, pch=16)"
   ]
  },
  {
   "cell_type": "code",
   "execution_count": null,
   "metadata": {},
   "outputs": [],
   "source": [
    "## Normalize the data using z-scores. Call the result climate.normal\n",
    "## YOUR PART\n",
    "climate.normal <- scale(climate, center=TRUE, scale=TRUE)"
   ]
  },
  {
   "cell_type": "code",
   "execution_count": null,
   "metadata": {},
   "outputs": [],
   "source": [
    "## Some helpful plots for 2a\n",
    "\n",
    "par(mfcol=c(3,4))\n",
    "\n",
    "for (i in 1:12) hist(climate[,i], xlab=colnames(climate)[i])\n",
    "\n",
    "for (i in 12+(1:12)) hist(climate[,i], xlab=colnames(climate)[i])\n",
    "\n",
    "for (i in 24+(1:12)) hist(climate[,i], xlab=colnames(climate)[i])\n",
    "\n",
    "for (i in 36+(1:12)) hist(climate[,i], xlab=colnames(climate)[i])\n",
    "\n",
    "par(mfcol=c(1,1))"
   ]
  },
  {
   "cell_type": "code",
   "execution_count": null,
   "metadata": {},
   "outputs": [],
   "source": [
    "## 2b Compute the SVD of the normalized climate data and store it in variable\n",
    "## climate.svd.  What is the rank of the data?\n",
    "## YOUR PART\n",
    "climate.svd <- svd(climate.normal)\n",
    "rankMatrix(climate.normal)"
   ]
  },
  {
   "cell_type": "code",
   "execution_count": null,
   "metadata": {},
   "outputs": [],
   "source": [
    "## 2c\n",
    "## Here is an example\n",
    "plot(coord, col=redgreen(climate.svd$u[,1]), asp=1, pch=16)\n",
    "## YOUR PART\n",
    "plot(coord, col=redgreen(climate.svd$u[,2]), asp=1, pch=16)\n",
    "plot(coord, col=redgreen(climate.svd$u[,3]), asp=1, pch=16)\n",
    "plot(coord, col=redgreen(climate.svd$u[,4]), asp=1, pch=16)\n",
    "plot(coord, col=redgreen(climate.svd$u[,5]), asp=1, pch=16)"
   ]
  },
  {
   "cell_type": "code",
   "execution_count": null,
   "metadata": {},
   "outputs": [],
   "source": [
    "## 2d\n",
    "## Here is an example\n",
    "plot(climate.svd$u[,c(1, 2)], col=redgreen(coord[,2]-mean(coord[,2])), asp=1, pch=16)\n",
    "## YOUR PART\n",
    "plot(climate.svd$u[,c(2, 5)], col=redgreen(coord[,1]-mean(coord[,1])), asp=1, pch=16)"
   ]
  },
  {
   "cell_type": "code",
   "execution_count": null,
   "metadata": {},
   "outputs": [],
   "source": [
    "## 2e\n",
    "## 2e(i) Guttman-Kaiser\n",
    "## YOUR PART\n",
    "d <- climate.svd$d\n",
    "length(d[d > 1])"
   ]
  },
  {
   "cell_type": "code",
   "execution_count": null,
   "metadata": {},
   "outputs": [],
   "source": [
    "## 2e(ii) 90% squared Frobenius norm\n",
    "## YOUR PART\n",
    "f <- d**2\n",
    "t <- c()\n",
    "i <- 1\n",
    "repeat {\n",
    "    t <- c(t, d[i])\n",
    "    if (sum(f) * 0.9 < sum(f[1:i])) {\n",
    "        break\n",
    "    } \n",
    "    i <- i + 1\n",
    "}\n",
    "length(t)"
   ]
  },
  {
   "cell_type": "code",
   "execution_count": null,
   "metadata": {},
   "outputs": [],
   "source": [
    "## 2e(iii) Scree test\n",
    "## YOUR PART\n",
    "x <- c(1:length(d))\n",
    "df <- data.frame(x=x, y=d)\n",
    "ggplot(data=df, aes(x=x, y=y, group=1)) +\n",
    "  geom_line()+\n",
    "  geom_point()"
   ]
  },
  {
   "cell_type": "code",
   "execution_count": null,
   "metadata": {},
   "outputs": [],
   "source": [
    "## 2e(iv) entropy\n",
    "## YOUR PART\n",
    "library(entropy)\n",
    "relative.contribution <- function (s, d) {\n",
    "    s**2 / sum(d**2)\n",
    "}\n",
    "f <- relative.contribution(d, d)\n",
    "E <- -sum(f * log10(f))\n",
    "t <- c()\n",
    "i <- 1\n",
    "repeat {\n",
    "    t <- c(t, d[i])\n",
    "    if (sum(f[1:i]) > E) {\n",
    "        break\n",
    "    } \n",
    "    i <- i + 1\n",
    "}\n",
    "length(t)"
   ]
  },
  {
   "cell_type": "code",
   "execution_count": null,
   "metadata": {},
   "outputs": [],
   "source": [
    "## 2e(v) random flips\n",
    "## Frobenius norm of A: norm(A, \"F\")\n",
    "## 2-norm of A        : norm(A, \"2\") or svd(A,0,0)$d[1]\n",
    "## Random signs       : sample(c(-1,1), nrow(A)*ncol(A), replace=T)\n",
    "## YOUR PART\n",
    "random.signs <- matrix(sample(c(-1,1), 48*48, replace=T),\n",
    "                           48, 48, byrow=T)\n",
    "residual <- function(svd, k) {\n",
    "    svd$u <- svd$u[,k:ncol(svd$u)]\n",
    "    svd$d <- svd$d[k:length(svd$d)]\n",
    "    svd$v <- svd$v[,k:ncol(svd$v)]\n",
    "    svd\n",
    "}\n",
    "structure <- function(svd) {\n",
    "    A <- svdcomp(svd)\n",
    "    (norm(A, \"2\") - norm(A %*% random.signs, \"2\")) / norm(A, \"F\")\n",
    "}\n",
    "\n",
    "i <- 1\n",
    "t <- c()\n",
    "repeat {\n",
    "    t <- c(t, structure(residual(climate.svd, i)))\n",
    "    if (i > 45) { break }\n",
    "    i <- i + 1\n",
    "}\n",
    "\n",
    "df <- data.frame(x=c(1:length(t)), y=t)\n",
    "ggplot(data=df, aes(x=x, y=y, group=1)) +\n",
    "  geom_line()+\n",
    "  geom_point()"
   ]
  },
  {
   "cell_type": "code",
   "execution_count": null,
   "metadata": {},
   "outputs": [],
   "source": [
    "## 2f\n",
    "## here is the empty plot that you need to fill (one line per choice of k +\n",
    "## one line for the RSME between climate.normal and the noisy versions)\n",
    "\n",
    "plot(NA, NA, xlim=c(0,2), ylim=c(0,2), xlab=\"epsilon\", ylab=\"RMSE\")\n",
    "\n",
    "## YOUR PART\n",
    "make.noisy <- function(eps) {\n",
    "    climate.normal + rnorm(prod(dim(climate.normal))) * eps\n",
    "}\n",
    "\n",
    "rmse <- function(A, Ahat) {\n",
    "    1/sqrt(ncol(A) * nrow(A)) * norm(A - Ahat, \"F\")\n",
    "}\n",
    "\n",
    "es <- seq(0, 2, 0.1)\n",
    "ks <- c(1,2,5,10,48)\n",
    "colors <- c(\"red\", \"blue\", \"green\", \"yellow\", \"black\")\n",
    "res <- c()\n",
    "i <- 1\n",
    "for (k in ks) {\n",
    "    for (eps in es) {\n",
    "        res <- c(res, rmse(svdcomp(climate.normal, 1:k), svdcomp(make.noisy(eps), 1:k)))\n",
    "    }\n",
    "    lines(es, res, col=colors[i])\n",
    "    i <- i + 1\n",
    "    res <- c()\n",
    "}\n",
    "legend(0, 2, ks, lty=c(1,1), col=colors)"
   ]
  },
  {
   "cell_type": "markdown",
   "metadata": {},
   "source": [
    "# 3. SVD and k-means"
   ]
  },
  {
   "cell_type": "code",
   "execution_count": null,
   "metadata": {},
   "outputs": [],
   "source": [
    "## Cluster the normalized climate data into 5 clusters using k-means and store\n",
    "## the vector giving the cluster labels for each location. Use 100 maximum\n",
    "## iterations and 10 restarts.\n",
    "climate.cluster <- kmeans(climate.normal, 5, iter.max=100, nstart=10)$cluster"
   ]
  },
  {
   "cell_type": "code",
   "execution_count": null,
   "metadata": {},
   "outputs": [],
   "source": [
    "## 3a\n",
    "## Plot the results to the map: use the cluster labels to give the color to each\n",
    "## point.\n",
    "plot(coord, col=climate.cluster, pch=16)\n",
    "# https://en.wikipedia.org/wiki/Climate_of_Europe#/media/File:Europe_map_of_K%C3%B6ppen_climate_classification.svg"
   ]
  },
  {
   "cell_type": "code",
   "execution_count": null,
   "metadata": {},
   "outputs": [],
   "source": [
    "## 3b\n",
    "## YOUR PART HERE\n",
    "x <- climate.svd$u[,1]\n",
    "y <- climate.svd$u[,2]\n",
    "plot(x, y, col=climate.cluster, pch=16)"
   ]
  },
  {
   "cell_type": "code",
   "execution_count": null,
   "metadata": {},
   "outputs": [],
   "source": [
    "## 3c\n",
    "plot(coord, col=climate.cluster, pch=16)\n",
    "dev.new() ## new plot window, old one stays\n",
    "\n",
    "## Compute the PCA scores (based on k), store in P (dimensions: nrow(climate.normal) x k)\n",
    "## YOUR PART HERE\n",
    "P = prcomp(t(climate.normal), rank.=3)$rotation"
   ]
  },
  {
   "cell_type": "code",
   "execution_count": null,
   "metadata": {},
   "outputs": [],
   "source": [
    "## cluster and visualize\n",
    "P.cluster <- kmeans(P, 5, iter.max=100, nstart=10)$cluster\n",
    "P.cluster <- match.labels(P.cluster, climate.cluster) ## this matches cluster colors as well as possible (try without)\n",
    "plot(coord, col=P.cluster, pch=16)"
   ]
  }
 ],
 "metadata": {
  "kernelspec": {
   "display_name": "R",
   "language": "R",
   "name": "ir"
  },
  "language_info": {
   "codemirror_mode": "r",
   "file_extension": ".r",
   "mimetype": "text/x-r-source",
   "name": "R",
   "pygments_lexer": "r",
   "version": "3.4.3"
  }
 },
 "nbformat": 4,
 "nbformat_minor": 2
}
