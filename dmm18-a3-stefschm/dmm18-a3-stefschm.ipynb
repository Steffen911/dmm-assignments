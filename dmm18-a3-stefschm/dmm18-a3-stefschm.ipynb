{
 "cells": [
  {
   "cell_type": "code",
   "execution_count": null,
   "metadata": {},
   "outputs": [],
   "source": [
    "# install.packages(c(\"gplots\",\"plotrix\",\"clue\",\"reshape\",\"e1071\"))\n",
    "source(\"support/util.R\")"
   ]
  },
  {
   "cell_type": "markdown",
   "metadata": {},
   "source": [
    "# Load the data"
   ]
  },
  {
   "cell_type": "code",
   "execution_count": null,
   "metadata": {},
   "outputs": [],
   "source": [
    "## load the document-term matrix\n",
    "Ptilde <- as.matrix( read.csv(\"data/news.csv\") )\n",
    "P <- Ptilde/sum(Ptilde) ## replace word frequencies by \"probabilities\""
   ]
  },
  {
   "cell_type": "code",
   "execution_count": null,
   "metadata": {},
   "outputs": [],
   "source": [
    "## the data is sorted by newsgroup; this is not exploited/known to NMF\n",
    "## here we truncate values >0.0001 for improved visiblity\n",
    "ggplotm(pmin(P,0.0001), format=\"\", show.axis=FALSE, mid=\"black\")\n",
    "# showcol(pmin(P,0.0001)) # alternative, faster but less flexible"
   ]
  },
  {
   "cell_type": "markdown",
   "metadata": {},
   "source": [
    "# 1 Topic Modelling with NMF"
   ]
  },
  {
   "cell_type": "code",
   "execution_count": null,
   "metadata": {},
   "outputs": [],
   "source": [
    "## run NMF using GKL\n",
    "r <- 4\n",
    "lr.gkl <- lee01.gkl(P, r, reps=5)"
   ]
  },
  {
   "cell_type": "code",
   "execution_count": null,
   "metadata": {},
   "outputs": [],
   "source": [
    "## print results\n",
    "with(lr.gkl,\n",
    "     for (k in 1:nrow(R)) {\n",
    "         print(rev(sort(R[k,]))[1:10])\n",
    "         cat(strrep('-',80), \"\\n\")\n",
    "     })"
   ]
  },
  {
   "cell_type": "code",
   "execution_count": null,
   "metadata": {},
   "outputs": [],
   "source": [
    "## look at the reconstruction\n",
    "Phat <- lr.gkl$L %*% lr.gkl$R\n",
    "summary(as.vector(Phat))\n",
    "ggplotm(pmin(Phat, 0.0001), format=\"\", show.axis=FALSE, mid=\"black\")"
   ]
  },
  {
   "cell_type": "code",
   "execution_count": null,
   "metadata": {},
   "outputs": [],
   "source": [
    "## also compute SVD\n",
    "P.svd <- svd(P)\n",
    "rownames(P.svd$v) <- colnames(P)"
   ]
  },
  {
   "cell_type": "code",
   "execution_count": null,
   "metadata": {},
   "outputs": [],
   "source": [
    "## print results\n",
    "with(P.svd,\n",
    "     for (k in 1:r) {\n",
    "         y=order(abs(v[,k]))\n",
    "         print(rev(v[y,k])[1:10])\n",
    "         cat(strrep('-',80), \"\\n\")\n",
    "     })"
   ]
  },
  {
   "cell_type": "code",
   "execution_count": null,
   "metadata": {},
   "outputs": [],
   "source": [
    "## svd reconstruction\n",
    "Phat <- P.svd$u[,1:4] %*% diag(P.svd$d[1:4]) %*% t(P.svd$v[,1:4])\n",
    "summary(as.vector(Phat))\n",
    "ggplotm(pmax(pmin(Phat,0.0001),-0.0001), format=\"\", show.axis=FALSE, mid=\"black\")"
   ]
  },
  {
   "cell_type": "code",
   "execution_count": null,
   "metadata": {},
   "outputs": [],
   "source": [
    "## look at the decomposition (here: Rtilde and V)\n",
    "ggplotm(lr.gkl$R, format=\"\", show.axis=FALSE, mid=\"black\") # enlarge plot or subselect columns to see something\n",
    "ggplotm(lr.gkl$R[,1:30], format=\"\", rotate.labels=TRUE, mid=\"black\") # first 30 columns\n",
    "\n",
    "ggplotm(t(P.svd$v[,1:4]), format=\"\", show.axis=FALSE, mid=\"black\")\n",
    "ggplotm(t(P.svd$v[1:30,1:4]), format=\"\", rotate.labels=TRUE, mid=\"black\") # first 30 columns"
   ]
  },
  {
   "cell_type": "markdown",
   "metadata": {},
   "source": [
    "## Rank 2 NMF"
   ]
  },
  {
   "cell_type": "code",
   "execution_count": null,
   "metadata": {},
   "outputs": [],
   "source": [
    "## run NMF using GKL with rank = 2\n",
    "r <- 2\n",
    "lr.gkl.r2 <- lee01.gkl(P, r, reps=5)"
   ]
  },
  {
   "cell_type": "code",
   "execution_count": null,
   "metadata": {},
   "outputs": [],
   "source": [
    "## print results\n",
    "with(lr.gkl.r2,\n",
    "     for (k in 1:nrow(R)) {\n",
    "         print(rev(sort(R[k,]))[1:10])\n",
    "         cat(strrep('-',80), \"\\n\")\n",
    "     })"
   ]
  },
  {
   "cell_type": "code",
   "execution_count": null,
   "metadata": {},
   "outputs": [],
   "source": [
    "## look at the reconstruction\n",
    "Phat.r2 <- lr.gkl.r2$L %*% lr.gkl.r2$R\n",
    "summary(as.vector(Phat.r2))\n",
    "ggplotm(pmin(Phat.r2, 0.0001), format=\"\", show.axis=FALSE, mid=\"black\")"
   ]
  },
  {
   "cell_type": "markdown",
   "metadata": {},
   "source": [
    "## Rank 8 NMF"
   ]
  },
  {
   "cell_type": "code",
   "execution_count": null,
   "metadata": {},
   "outputs": [],
   "source": [
    "## run NMF using GKL with rank = 8\n",
    "r <- 8\n",
    "lr.gkl.r8 <- lee01.gkl(P, r, reps=5)"
   ]
  },
  {
   "cell_type": "code",
   "execution_count": null,
   "metadata": {},
   "outputs": [],
   "source": [
    "## print results\n",
    "with(lr.gkl.r8,\n",
    "     for (k in 1:nrow(R)) {\n",
    "         print(rev(sort(R[k,]))[1:10])\n",
    "         cat(strrep('-',80), \"\\n\")\n",
    "     })"
   ]
  },
  {
   "cell_type": "code",
   "execution_count": null,
   "metadata": {},
   "outputs": [],
   "source": [
    "## look at the reconstruction\n",
    "Phat.r8 <- lr.gkl.r8$L %*% lr.gkl.r8$R\n",
    "summary(as.vector(Phat.r8))\n",
    "ggplotm(pmin(Phat.r8, 0.0001), format=\"\", show.axis=FALSE, mid=\"black\")"
   ]
  },
  {
   "cell_type": "markdown",
   "metadata": {},
   "source": [
    "## Gaussian NMF"
   ]
  },
  {
   "cell_type": "code",
   "execution_count": null,
   "metadata": {},
   "outputs": [],
   "source": [
    "r <- 4\n",
    "lr.gnmf <- lee01.gnmf(P, r, reps=5)"
   ]
  },
  {
   "cell_type": "code",
   "execution_count": null,
   "metadata": {},
   "outputs": [],
   "source": [
    "## print results\n",
    "with(lr.gnmf,\n",
    "     for (k in 1:nrow(R)) {\n",
    "         print(rev(sort(R[k,]))[1:10])\n",
    "         cat(strrep('-',80), \"\\n\")\n",
    "     })"
   ]
  },
  {
   "cell_type": "code",
   "execution_count": null,
   "metadata": {},
   "outputs": [],
   "source": [
    "## look at the reconstruction\n",
    "Phat.gnmf <- lr.gnmf$L %*% lr.gnmf$R\n",
    "summary(as.vector(Phat.gnmf))\n",
    "ggplotm(pmin(Phat.gnmf, 0.0001), format=\"\", show.axis=FALSE, mid=\"black\")"
   ]
  },
  {
   "cell_type": "markdown",
   "metadata": {},
   "source": [
    "# 2 PLSA"
   ]
  },
  {
   "cell_type": "code",
   "execution_count": null,
   "metadata": {},
   "outputs": [],
   "source": [
    "## computing the 3-matrix decompositions\n",
    "r <- 4\n",
    "lr.gkl <- lee01.gkl(P, r, reps=5)\n",
    "lsr.gkl <- nmf.lsr(lr.gkl) ## result as: L %*% S %*% R\n",
    "slr.gkl <- nmf.slr(lr.gkl) ## result as: S %*% L %*% R"
   ]
  },
  {
   "cell_type": "markdown",
   "metadata": {},
   "source": [
    "## LSR"
   ]
  },
  {
   "cell_type": "code",
   "execution_count": null,
   "metadata": {},
   "outputs": [],
   "source": [
    "# Explore S\n",
    "lsr.gkl$S\n",
    "sum(lsr.gkl$S)"
   ]
  },
  {
   "cell_type": "code",
   "execution_count": null,
   "metadata": {},
   "outputs": [],
   "source": [
    "# Explore R\n",
    "with(lsr.gkl,\n",
    "     for (k in 1:nrow(R)) {\n",
    "         print(rev(sort(R[k,]))[1:10])\n",
    "         cat(strrep('-',80), \"\\n\")\n",
    "     })"
   ]
  },
  {
   "cell_type": "code",
   "execution_count": null,
   "metadata": {},
   "outputs": [],
   "source": [
    "# Explore L\n",
    "dim(lsr.gkl$L)\n",
    "lsr.gkl$L\n",
    "sum(lsr.gkl$L[,1])\n",
    "sum(lsr.gkl$L[,2])\n",
    "sum(lsr.gkl$L[,3])\n",
    "sum(lsr.gkl$L[,4])"
   ]
  },
  {
   "cell_type": "markdown",
   "metadata": {},
   "source": [
    "## SLR"
   ]
  },
  {
   "cell_type": "code",
   "execution_count": null,
   "metadata": {},
   "outputs": [],
   "source": [
    "# Explore L\n",
    "slr.gkl$L"
   ]
  },
  {
   "cell_type": "code",
   "execution_count": null,
   "metadata": {},
   "outputs": [],
   "source": [
    "# Explore R\n",
    "slr.gkl$R\n",
    "sum(slr.gkl$R[1,])\n",
    "sum(slr.gkl$R[2,])\n",
    "sum(slr.gkl$R[3,])\n",
    "sum(slr.gkl$R[4,])\n",
    "with(slr.gkl,\n",
    "     for (k in 1:nrow(R)) {\n",
    "         print(rev(sort(R[k,]))[1:10])\n",
    "         cat(strrep('-',80), \"\\n\")\n",
    "     })"
   ]
  },
  {
   "cell_type": "code",
   "execution_count": null,
   "metadata": {},
   "outputs": [],
   "source": [
    "# Explore S\n",
    "with(slr.gkl,{\n",
    "    O <- S %*% L %*% R\n",
    "    S[ S < 0.0007045] <- 0\n",
    "    C <- S %*% L %*% R\n",
    "    print(norm(C - O, \"F\"))\n",
    "    print(norm(P - O, \"F\"))\n",
    "    print(norm(P - C, \"F\"))\n",
    "})\n",
    "sum(slr.gkl$S)\n",
    "summary(slr.gkl$S)\n",
    "slr.gkl$S"
   ]
  },
  {
   "cell_type": "markdown",
   "metadata": {},
   "source": [
    "# 3 Clustering"
   ]
  },
  {
   "cell_type": "code",
   "execution_count": null,
   "metadata": {},
   "outputs": [],
   "source": [
    "## true labels (DO NOT USE for clustering)\n",
    "## 1=sci.crypt\n",
    "## 2=sci.med\n",
    "## 3=sci.space\n",
    "## 4=soc.religion.christian\n",
    "labels <- rep(1:4, each=100)\n",
    "\n",
    "## to compute the confusion matrix between a clustering and the true labels, we\n",
    "## first relabel every cluster so that cluster ids match labels to the extent\n",
    "## possible. (Always do this.)\n",
    "cm <- function(cluster.ids) {\n",
    "    cluster.ids.matched <- match.labels(cluster.ids, labels)\n",
    "    u = union(cluster.ids.matched, labels)\n",
    "    t = table(factor(cluster.ids.matched, u), factor(labels, u))\n",
    "    confusionMatrix(t)\n",
    "}"
   ]
  },
  {
   "cell_type": "markdown",
   "metadata": {},
   "source": [
    "## k-Means"
   ]
  },
  {
   "cell_type": "code",
   "execution_count": null,
   "metadata": {},
   "outputs": [],
   "source": [
    "## example clustering (k-means with k=4)\n",
    "cluster <- kmeans(P, 4, nstart=100)$cluster\n",
    "cm(cluster)$overall[\"Accuracy\"] ## just the accuracy of \"cluster\"\n",
    "cm(cluster)                     ## confusion matrix and statistics of \"cluster\" (rows = predicted, columns = actual)"
   ]
  },
  {
   "cell_type": "markdown",
   "metadata": {},
   "source": [
    "## k-Means on $\\mathbf{U}_4\\mathbf{\\Sigma}_4$"
   ]
  },
  {
   "cell_type": "code",
   "execution_count": null,
   "metadata": {},
   "outputs": [],
   "source": [
    "P.svd <- svd(P)\n",
    "u.4 <- P.svd$u[,1:4]\n",
    "d.4 <- diag(P.svd$d[1:4])\n",
    "\n",
    "cluster <- kmeans(u.4 %*% d.4, 4, nstart=100)$cluster\n",
    "cm(cluster)$overall[\"Accuracy\"]\n",
    "cm(cluster)"
   ]
  },
  {
   "cell_type": "markdown",
   "metadata": {},
   "source": [
    "## k-Means on the $\\mathbf{\\tilde{L}}$ matrix of the NMF"
   ]
  },
  {
   "cell_type": "code",
   "execution_count": null,
   "metadata": {},
   "outputs": [],
   "source": [
    "r <- 4\n",
    "lr.gkl <- lee01.gkl(P, r, reps=5)"
   ]
  },
  {
   "cell_type": "code",
   "execution_count": null,
   "metadata": {},
   "outputs": [],
   "source": [
    "cluster <- kmeans(lr.gkl$L, 4, nstart=100)$cluster\n",
    "cm(cluster)$overall[\"Accuracy\"]\n",
    "cm(cluster)"
   ]
  },
  {
   "cell_type": "markdown",
   "metadata": {},
   "source": [
    "## k-Means on the $\\mathbf{{L'}}$ matrix of factorization $\\mathbf{L'}\\mathbf{\\Sigma'}\\mathbf{R'}$"
   ]
  },
  {
   "cell_type": "code",
   "execution_count": null,
   "metadata": {},
   "outputs": [],
   "source": [
    "r <- 4\n",
    "lr.gkl <- lee01.gkl(P, r, reps=5)\n",
    "lsr.gkl <- nmf.lsr(lr.gkl) ## result as: L %*% S %*% R"
   ]
  },
  {
   "cell_type": "code",
   "execution_count": null,
   "metadata": {},
   "outputs": [],
   "source": [
    "cluster <- kmeans(lsr.gkl$L, 4, nstart=100)$cluster\n",
    "cm(cluster)$overall[\"Accuracy\"]\n",
    "cm(cluster)"
   ]
  },
  {
   "cell_type": "markdown",
   "metadata": {},
   "source": [
    "## k-Means on the $\\mathbf{{L''}}$ matrix of factorization $\\mathbf{\\Sigma''}\\mathbf{L''}\\mathbf{R''}$"
   ]
  },
  {
   "cell_type": "code",
   "execution_count": null,
   "metadata": {},
   "outputs": [],
   "source": [
    "r <- 4\n",
    "lr.gkl <- lee01.gkl(P, r, reps=5)\n",
    "slr.gkl <- nmf.slr(lr.gkl) ## result as: L %*% S %*% R"
   ]
  },
  {
   "cell_type": "code",
   "execution_count": null,
   "metadata": {},
   "outputs": [],
   "source": [
    "cluster <- kmeans(slr.gkl$L, 4, nstart=100)$cluster\n",
    "cm(cluster)$overall[\"Accuracy\"]\n",
    "cm(cluster)"
   ]
  }
 ],
 "metadata": {
  "kernelspec": {
   "display_name": "R",
   "language": "R",
   "name": "ir"
  },
  "language_info": {
   "codemirror_mode": "r",
   "file_extension": ".r",
   "mimetype": "text/x-r-source",
   "name": "R",
   "pygments_lexer": "r",
   "version": "3.4.1"
  }
 },
 "nbformat": 4,
 "nbformat_minor": 2
}
